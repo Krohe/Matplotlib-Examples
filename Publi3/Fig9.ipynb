{
 "cells": [
  {
   "cell_type": "code",
   "execution_count": 1,
   "id": "e9eba980-a037-43fc-a922-2411b650f626",
   "metadata": {},
   "outputs": [],
   "source": [
    "import matplotlib.pyplot as plt\n",
    "import matplotlib as mpl\n",
    "from mpl_toolkits.axes_grid1 import ImageGrid\n",
    "from discrete_basics import *\n",
    "from discrete_plot import *\n",
    "from discrete_sim import *\n",
    "\n",
    "#newcmp = define_ccolormap()"
   ]
  },
  {
   "cell_type": "code",
   "execution_count": null,
   "id": "64cbfd9d-feb5-4418-8fdc-ff8c79a17fbf",
   "metadata": {
    "jupyter": {
     "source_hidden": true
    },
    "tags": []
   },
   "outputs": [
    {
     "name": "stdout",
     "output_type": "stream",
     "text": [
      "-10\n",
      "[-2.86330132  0.26926983  2.59403148]\n"
     ]
    }
   ],
   "source": [
    "mpl.rcParams['backend'] = 'pdf'\n",
    "mpl.rc('font',**{'family':'serif'})\n",
    "mpl.rcParams['mathtext.fontset'] = 'cm'\n",
    "\n",
    "def axin_setup(axins):\n",
    "    axins.set_xlim(10, 50)\n",
    "    axins.set_ylim(10, 50)\n",
    "    axins.set_xticklabels([])\n",
    "    axins.set_yticklabels([])\n",
    "    axins.set_xticks([])\n",
    "    axins.set_yticks([])\n",
    "    return None\n",
    "\n",
    "resolution = 100\n",
    "a,b,c,d = -10,2,18.75,-5\n",
    "print(a)\n",
    "solutions = minima(a,b,c,d)\n",
    "print(solutions)\n",
    "\n",
    "# Set up figure and image grid\n",
    "fig = plt.figure(figsize=(15, 5), dpi=150)\n",
    "\n",
    "grid = ImageGrid(fig, 111, nrows_ncols=(1,3), axes_pad=0.15,\n",
    "                 share_all=True, cbar_location=\"right\",\n",
    "                 cbar_mode=\"single\", cbar_size=\"7%\", cbar_pad=0.1)\n",
    "\n",
    "res, xv, yv = mesh_hex(resolution)\n",
    "z = inioct(res,xv,yv,solutions,resolution)\n",
    "grid[1].add_collection(patches_hex(xv,yv,z))\n",
    "axins = grid[1].inset_axes([0, 0, 0.5, 0.5])\n",
    "axins.add_collection(patches_hex(xv,yv,z,0.6))\n",
    "axin_setup(axins)\n",
    "\n",
    "res, xv, yv = mesh_tri(resolution)\n",
    "z = inioct(res,xv,yv,solutions,resolution)\n",
    "grid[2].add_collection(patches_tri(xv,yv,z))\n",
    "axins = grid[2].inset_axes([0, 0, 0.5, 0.5])\n",
    "axins.add_collection(patches_tri(xv,yv,z,0.6))\n",
    "axin_setup(axins)\n",
    "\n",
    "res, xv, yv = mesh_reg(resolution)\n",
    "z = inioct(res,xv,yv,solutions,resolution)\n",
    "c = grid[0].add_collection(patches_reg(xv,yv,z))\n",
    "axins = grid[0].inset_axes([0, 0, 0.5, 0.5])\n",
    "axins.add_collection(patches_reg(xv,yv,z,0.6))\n",
    "axin_setup(axins)\n",
    "\n",
    "for ax in grid:\n",
    "    ax.set_rasterization_zorder(0)\n",
    "    ax.axis('equal');\n",
    "    ax.axis('off')\n",
    "\n",
    "ax.cax.cla()\n",
    "cb = mpl.colorbar.Colorbar(ax.cax,c)\n",
    "cb.ax.tick_params(labelsize=15)\n",
    "cb.set_label(label=r'$u(x,y)$',weight='bold',fontsize=18)\n",
    "ax.cax.toggle_label(True)\n",
    "\n",
    "plt.savefig(\"9_initials.pdf\")\n",
    "plt.show()"
   ]
  },
  {
   "cell_type": "code",
   "execution_count": null,
   "id": "ad59b669-1342-4513-a8f4-e2db40813b02",
   "metadata": {},
   "outputs": [],
   "source": []
  },
  {
   "cell_type": "code",
   "execution_count": null,
   "id": "f3b1da79",
   "metadata": {},
   "outputs": [],
   "source": []
  }
 ],
 "metadata": {
  "kernelspec": {
   "display_name": "Python 3",
   "language": "python",
   "name": "python3"
  },
  "language_info": {
   "codemirror_mode": {
    "name": "ipython",
    "version": 3
   },
   "file_extension": ".py",
   "mimetype": "text/x-python",
   "name": "python",
   "nbconvert_exporter": "python",
   "pygments_lexer": "ipython3",
   "version": "3.6.13"
  }
 },
 "nbformat": 4,
 "nbformat_minor": 5
}
